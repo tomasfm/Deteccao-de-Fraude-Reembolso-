{
 "cells": [
  {
   "cell_type": "code",
   "execution_count": 1,
   "metadata": {
    "ExecuteTime": {
     "end_time": "2019-11-25T15:26:20.970237Z",
     "start_time": "2019-11-25T15:26:19.157387Z"
    }
   },
   "outputs": [],
   "source": [
    "import pandas as pd\n",
    "import numpy as np\n",
    "from matplotlib import pyplot as plt\n",
    "import seaborn as sns\n",
    "sns.set()\n",
    "# ignorando os warnings\n",
    "import warnings\n",
    "warnings.filterwarnings('ignore')\n",
    "# plotando o matplotlib\n",
    "%matplotlib inline\n",
    "pd.set_option('display.max_columns', None)\n",
    "pd.set_option('display.max_rows', 50)\n"
   ]
  },
  {
   "cell_type": "markdown",
   "metadata": {},
   "source": [
    "Importando dados / importing data"
   ]
  },
  {
   "cell_type": "code",
   "execution_count": 86,
   "metadata": {
    "ExecuteTime": {
     "end_time": "2019-11-25T15:26:22.470884Z",
     "start_time": "2019-11-25T15:26:20.972683Z"
    }
   },
   "outputs": [],
   "source": [
    "reembolso = pd.read_csv('Pedidos de reembolso de executivos.csv', sep=';')"
   ]
  },
  {
   "cell_type": "code",
   "execution_count": 87,
   "metadata": {
    "ExecuteTime": {
     "end_time": "2019-11-25T15:26:22.500392Z",
     "start_time": "2019-11-25T15:26:22.473760Z"
    }
   },
   "outputs": [
    {
     "data": {
      "text/html": [
       "<div>\n",
       "<style scoped>\n",
       "    .dataframe tbody tr th:only-of-type {\n",
       "        vertical-align: middle;\n",
       "    }\n",
       "\n",
       "    .dataframe tbody tr th {\n",
       "        vertical-align: top;\n",
       "    }\n",
       "\n",
       "    .dataframe thead th {\n",
       "        text-align: right;\n",
       "    }\n",
       "</style>\n",
       "<table border=\"1\" class=\"dataframe\">\n",
       "  <thead>\n",
       "    <tr style=\"text-align: right;\">\n",
       "      <th></th>\n",
       "      <th>bugged_date</th>\n",
       "      <th>receipt_date</th>\n",
       "      <th>employee_id</th>\n",
       "      <th>work_group</th>\n",
       "      <th>state_code</th>\n",
       "      <th>employee</th>\n",
       "      <th>receipt_social_security_number</th>\n",
       "      <th>receipt_description</th>\n",
       "      <th>establishment_name</th>\n",
       "      <th>receipt_value</th>\n",
       "    </tr>\n",
       "  </thead>\n",
       "  <tbody>\n",
       "    <tr>\n",
       "      <th>0</th>\n",
       "      <td>0</td>\n",
       "      <td>27/03/2013 00:00</td>\n",
       "      <td>1772</td>\n",
       "      <td>grupo 1</td>\n",
       "      <td>SP</td>\n",
       "      <td>func 1</td>\n",
       "      <td>3.530749e+12</td>\n",
       "      <td>Fuels and lubricants.</td>\n",
       "      <td>AUTO POSTO 314 NORTE LTDA</td>\n",
       "      <td>70</td>\n",
       "    </tr>\n",
       "    <tr>\n",
       "      <th>1</th>\n",
       "      <td>0</td>\n",
       "      <td>24/07/2013 00:00</td>\n",
       "      <td>1772</td>\n",
       "      <td>grupo 1</td>\n",
       "      <td>SP</td>\n",
       "      <td>func 1</td>\n",
       "      <td>8.202116e+12</td>\n",
       "      <td>Fuels and lubricants.</td>\n",
       "      <td>AUTO POSTO AEROPORTO  LTDA</td>\n",
       "      <td>104</td>\n",
       "    </tr>\n",
       "    <tr>\n",
       "      <th>2</th>\n",
       "      <td>0</td>\n",
       "      <td>17/02/2013 00:00</td>\n",
       "      <td>1772</td>\n",
       "      <td>grupo 1</td>\n",
       "      <td>SP</td>\n",
       "      <td>func 1</td>\n",
       "      <td>8.202116e+12</td>\n",
       "      <td>Fuels and lubricants.</td>\n",
       "      <td>AUTO POSTO AEROPORTO LTDA</td>\n",
       "      <td>100</td>\n",
       "    </tr>\n",
       "    <tr>\n",
       "      <th>3</th>\n",
       "      <td>0</td>\n",
       "      <td>15/03/2013 00:00</td>\n",
       "      <td>1772</td>\n",
       "      <td>grupo 1</td>\n",
       "      <td>SP</td>\n",
       "      <td>func 1</td>\n",
       "      <td>8.202116e+12</td>\n",
       "      <td>Fuels and lubricants.</td>\n",
       "      <td>AUTO POSTO AEROPORTO LTDA</td>\n",
       "      <td>100</td>\n",
       "    </tr>\n",
       "    <tr>\n",
       "      <th>4</th>\n",
       "      <td>0</td>\n",
       "      <td>27/01/2013 00:00</td>\n",
       "      <td>1772</td>\n",
       "      <td>grupo 1</td>\n",
       "      <td>SP</td>\n",
       "      <td>func 1</td>\n",
       "      <td>8.202116e+12</td>\n",
       "      <td>Fuels and lubricants.</td>\n",
       "      <td>AUTO POSTO AEROPORTO LTDA</td>\n",
       "      <td>77</td>\n",
       "    </tr>\n",
       "  </tbody>\n",
       "</table>\n",
       "</div>"
      ],
      "text/plain": [
       "   bugged_date      receipt_date  employee_id work_group state_code employee  \\\n",
       "0            0  27/03/2013 00:00         1772    grupo 1         SP   func 1   \n",
       "1            0  24/07/2013 00:00         1772    grupo 1         SP   func 1   \n",
       "2            0  17/02/2013 00:00         1772    grupo 1         SP   func 1   \n",
       "3            0  15/03/2013 00:00         1772    grupo 1         SP   func 1   \n",
       "4            0  27/01/2013 00:00         1772    grupo 1         SP   func 1   \n",
       "\n",
       "   receipt_social_security_number    receipt_description  \\\n",
       "0                    3.530749e+12  Fuels and lubricants.   \n",
       "1                    8.202116e+12  Fuels and lubricants.   \n",
       "2                    8.202116e+12  Fuels and lubricants.   \n",
       "3                    8.202116e+12  Fuels and lubricants.   \n",
       "4                    8.202116e+12  Fuels and lubricants.   \n",
       "\n",
       "           establishment_name  receipt_value  \n",
       "0   AUTO POSTO 314 NORTE LTDA             70  \n",
       "1  AUTO POSTO AEROPORTO  LTDA            104  \n",
       "2   AUTO POSTO AEROPORTO LTDA            100  \n",
       "3   AUTO POSTO AEROPORTO LTDA            100  \n",
       "4   AUTO POSTO AEROPORTO LTDA             77  "
      ]
     },
     "execution_count": 87,
     "metadata": {},
     "output_type": "execute_result"
    }
   ],
   "source": [
    "reembolso.head()"
   ]
  },
  {
   "cell_type": "code",
   "execution_count": 88,
   "metadata": {},
   "outputs": [
    {
     "data": {
      "text/plain": [
       "(1048575, 10)"
      ]
     },
     "execution_count": 88,
     "metadata": {},
     "output_type": "execute_result"
    }
   ],
   "source": [
    "reembolso.shape"
   ]
  },
  {
   "cell_type": "code",
   "execution_count": 105,
   "metadata": {},
   "outputs": [],
   "source": [
    "#reduzindo o tamanho da base para rodar o LOF / reducing the sample size to run the LOF\n",
    "reembolso = reembolso[:10000]"
   ]
  },
  {
   "cell_type": "code",
   "execution_count": 106,
   "metadata": {},
   "outputs": [
    {
     "data": {
      "text/plain": [
       "(10000, 14)"
      ]
     },
     "execution_count": 106,
     "metadata": {},
     "output_type": "execute_result"
    }
   ],
   "source": [
    "reembolso.shape"
   ]
  },
  {
   "cell_type": "code",
   "execution_count": 107,
   "metadata": {},
   "outputs": [],
   "source": [
    "reembolso.drop(reembolso[reembolso['receipt_date'] == '2013'].index, inplace = True) \n",
    "reembolso.drop(reembolso[reembolso['receipt_date'] == '2014'].index, inplace = True) \n",
    "reembolso.drop(reembolso[reembolso['receipt_date'] == '2011'].index, inplace = True) \n",
    "reembolso = reembolso.assign(day=reembolso['receipt_date'].str[:2], month=reembolso['receipt_date'].str[3:5], year=reembolso['receipt_date'].str[6:10])"
   ]
  },
  {
   "cell_type": "code",
   "execution_count": 108,
   "metadata": {},
   "outputs": [],
   "source": [
    "X = reembolso.drop(['bugged_date', 'employee', 'receipt_social_security_number', 'work_group','state_code', 'receipt_date'], axis=1)"
   ]
  },
  {
   "cell_type": "code",
   "execution_count": 109,
   "metadata": {},
   "outputs": [
    {
     "data": {
      "text/html": [
       "<div>\n",
       "<style scoped>\n",
       "    .dataframe tbody tr th:only-of-type {\n",
       "        vertical-align: middle;\n",
       "    }\n",
       "\n",
       "    .dataframe tbody tr th {\n",
       "        vertical-align: top;\n",
       "    }\n",
       "\n",
       "    .dataframe thead th {\n",
       "        text-align: right;\n",
       "    }\n",
       "</style>\n",
       "<table border=\"1\" class=\"dataframe\">\n",
       "  <thead>\n",
       "    <tr style=\"text-align: right;\">\n",
       "      <th></th>\n",
       "      <th>employee_id</th>\n",
       "      <th>receipt_description</th>\n",
       "      <th>establishment_name</th>\n",
       "      <th>receipt_value</th>\n",
       "      <th>day</th>\n",
       "      <th>month</th>\n",
       "      <th>year</th>\n",
       "      <th>anomaly_by_lof</th>\n",
       "    </tr>\n",
       "  </thead>\n",
       "  <tbody>\n",
       "    <tr>\n",
       "      <th>0</th>\n",
       "      <td>1772</td>\n",
       "      <td>Fuels and lubricants.</td>\n",
       "      <td>AUTO POSTO 314 NORTE LTDA</td>\n",
       "      <td>70</td>\n",
       "      <td>27</td>\n",
       "      <td>03</td>\n",
       "      <td>2013</td>\n",
       "      <td>1</td>\n",
       "    </tr>\n",
       "    <tr>\n",
       "      <th>1</th>\n",
       "      <td>1772</td>\n",
       "      <td>Fuels and lubricants.</td>\n",
       "      <td>AUTO POSTO AEROPORTO  LTDA</td>\n",
       "      <td>104</td>\n",
       "      <td>24</td>\n",
       "      <td>07</td>\n",
       "      <td>2013</td>\n",
       "      <td>1</td>\n",
       "    </tr>\n",
       "    <tr>\n",
       "      <th>2</th>\n",
       "      <td>1772</td>\n",
       "      <td>Fuels and lubricants.</td>\n",
       "      <td>AUTO POSTO AEROPORTO LTDA</td>\n",
       "      <td>100</td>\n",
       "      <td>17</td>\n",
       "      <td>02</td>\n",
       "      <td>2013</td>\n",
       "      <td>1</td>\n",
       "    </tr>\n",
       "    <tr>\n",
       "      <th>3</th>\n",
       "      <td>1772</td>\n",
       "      <td>Fuels and lubricants.</td>\n",
       "      <td>AUTO POSTO AEROPORTO LTDA</td>\n",
       "      <td>100</td>\n",
       "      <td>15</td>\n",
       "      <td>03</td>\n",
       "      <td>2013</td>\n",
       "      <td>1</td>\n",
       "    </tr>\n",
       "    <tr>\n",
       "      <th>4</th>\n",
       "      <td>1772</td>\n",
       "      <td>Fuels and lubricants.</td>\n",
       "      <td>AUTO POSTO AEROPORTO LTDA</td>\n",
       "      <td>77</td>\n",
       "      <td>27</td>\n",
       "      <td>01</td>\n",
       "      <td>2013</td>\n",
       "      <td>-1</td>\n",
       "    </tr>\n",
       "  </tbody>\n",
       "</table>\n",
       "</div>"
      ],
      "text/plain": [
       "   employee_id    receipt_description          establishment_name  \\\n",
       "0         1772  Fuels and lubricants.   AUTO POSTO 314 NORTE LTDA   \n",
       "1         1772  Fuels and lubricants.  AUTO POSTO AEROPORTO  LTDA   \n",
       "2         1772  Fuels and lubricants.   AUTO POSTO AEROPORTO LTDA   \n",
       "3         1772  Fuels and lubricants.   AUTO POSTO AEROPORTO LTDA   \n",
       "4         1772  Fuels and lubricants.   AUTO POSTO AEROPORTO LTDA   \n",
       "\n",
       "   receipt_value day month  year  anomaly_by_lof  \n",
       "0             70  27    03  2013               1  \n",
       "1            104  24    07  2013               1  \n",
       "2            100  17    02  2013               1  \n",
       "3            100  15    03  2013               1  \n",
       "4             77  27    01  2013              -1  "
      ]
     },
     "execution_count": 109,
     "metadata": {},
     "output_type": "execute_result"
    }
   ],
   "source": [
    "X.head()"
   ]
  },
  {
   "cell_type": "code",
   "execution_count": 110,
   "metadata": {},
   "outputs": [],
   "source": [
    "from sklearn.preprocessing import StandardScaler, OneHotEncoder\n",
    "from sklearn.compose import ColumnTransformer, make_column_transformer"
   ]
  },
  {
   "cell_type": "code",
   "execution_count": 111,
   "metadata": {},
   "outputs": [],
   "source": [
    "X['receipt_description'] = X['receipt_description'].astype('category')\n",
    "#X['establishment_name'] = X['establishment_name'].astype('category')\n",
    "\n",
    "X['day'] = X['day'].astype('int64')\n",
    "X['month'] = X['month'].astype('int64')\n",
    "X['year'] = X['year'].astype('int64')"
   ]
  },
  {
   "cell_type": "code",
   "execution_count": 112,
   "metadata": {},
   "outputs": [],
   "source": [
    "X.drop(['establishment_name'], axis=1, inplace=True)"
   ]
  },
  {
   "cell_type": "code",
   "execution_count": 113,
   "metadata": {},
   "outputs": [
    {
     "data": {
      "text/html": [
       "<div>\n",
       "<style scoped>\n",
       "    .dataframe tbody tr th:only-of-type {\n",
       "        vertical-align: middle;\n",
       "    }\n",
       "\n",
       "    .dataframe tbody tr th {\n",
       "        vertical-align: top;\n",
       "    }\n",
       "\n",
       "    .dataframe thead th {\n",
       "        text-align: right;\n",
       "    }\n",
       "</style>\n",
       "<table border=\"1\" class=\"dataframe\">\n",
       "  <thead>\n",
       "    <tr style=\"text-align: right;\">\n",
       "      <th></th>\n",
       "      <th>employee_id</th>\n",
       "      <th>receipt_description</th>\n",
       "      <th>receipt_value</th>\n",
       "      <th>day</th>\n",
       "      <th>month</th>\n",
       "      <th>year</th>\n",
       "      <th>anomaly_by_lof</th>\n",
       "    </tr>\n",
       "  </thead>\n",
       "  <tbody>\n",
       "    <tr>\n",
       "      <th>0</th>\n",
       "      <td>1772</td>\n",
       "      <td>Fuels and lubricants.</td>\n",
       "      <td>70</td>\n",
       "      <td>27</td>\n",
       "      <td>3</td>\n",
       "      <td>2013</td>\n",
       "      <td>1</td>\n",
       "    </tr>\n",
       "    <tr>\n",
       "      <th>1</th>\n",
       "      <td>1772</td>\n",
       "      <td>Fuels and lubricants.</td>\n",
       "      <td>104</td>\n",
       "      <td>24</td>\n",
       "      <td>7</td>\n",
       "      <td>2013</td>\n",
       "      <td>1</td>\n",
       "    </tr>\n",
       "    <tr>\n",
       "      <th>2</th>\n",
       "      <td>1772</td>\n",
       "      <td>Fuels and lubricants.</td>\n",
       "      <td>100</td>\n",
       "      <td>17</td>\n",
       "      <td>2</td>\n",
       "      <td>2013</td>\n",
       "      <td>1</td>\n",
       "    </tr>\n",
       "    <tr>\n",
       "      <th>3</th>\n",
       "      <td>1772</td>\n",
       "      <td>Fuels and lubricants.</td>\n",
       "      <td>100</td>\n",
       "      <td>15</td>\n",
       "      <td>3</td>\n",
       "      <td>2013</td>\n",
       "      <td>1</td>\n",
       "    </tr>\n",
       "    <tr>\n",
       "      <th>4</th>\n",
       "      <td>1772</td>\n",
       "      <td>Fuels and lubricants.</td>\n",
       "      <td>77</td>\n",
       "      <td>27</td>\n",
       "      <td>1</td>\n",
       "      <td>2013</td>\n",
       "      <td>-1</td>\n",
       "    </tr>\n",
       "  </tbody>\n",
       "</table>\n",
       "</div>"
      ],
      "text/plain": [
       "   employee_id    receipt_description  receipt_value  day  month  year  \\\n",
       "0         1772  Fuels and lubricants.             70   27      3  2013   \n",
       "1         1772  Fuels and lubricants.            104   24      7  2013   \n",
       "2         1772  Fuels and lubricants.            100   17      2  2013   \n",
       "3         1772  Fuels and lubricants.            100   15      3  2013   \n",
       "4         1772  Fuels and lubricants.             77   27      1  2013   \n",
       "\n",
       "   anomaly_by_lof  \n",
       "0               1  \n",
       "1               1  \n",
       "2               1  \n",
       "3               1  \n",
       "4              -1  "
      ]
     },
     "execution_count": 113,
     "metadata": {},
     "output_type": "execute_result"
    }
   ],
   "source": [
    "X.head()"
   ]
  },
  {
   "cell_type": "code",
   "execution_count": 114,
   "metadata": {},
   "outputs": [],
   "source": [
    "# preprocess = make_column_transformer((['receipt_date','employee_id','work_group','state_code','receipt_description','establishment_name'], OneHotEncoder()))\n",
    "#columnTransformer = make_column_transformer((OneHotEncoder(), ['employee_id','receipt_description','establishment_name']), remainder='passthrough')\n",
    "\n",
    "columnTransformer = make_column_transformer((OneHotEncoder(), ['employee_id','receipt_description']), remainder='passthrough')"
   ]
  },
  {
   "cell_type": "code",
   "execution_count": 115,
   "metadata": {},
   "outputs": [],
   "source": [
    "X_trans = columnTransformer.fit_transform(X)"
   ]
  },
  {
   "cell_type": "code",
   "execution_count": 116,
   "metadata": {},
   "outputs": [],
   "source": [
    "from sklearn.neighbors import LocalOutlierFactor"
   ]
  },
  {
   "cell_type": "code",
   "execution_count": 117,
   "metadata": {},
   "outputs": [],
   "source": [
    "clf = LocalOutlierFactor(n_neighbors=50, contamination=0.1, p=1)  #p = 1, this is equivalent to using manhattan_distance (l1)"
   ]
  },
  {
   "cell_type": "code",
   "execution_count": 118,
   "metadata": {},
   "outputs": [],
   "source": [
    "y_pred = clf.fit_predict(X_trans)"
   ]
  },
  {
   "cell_type": "code",
   "execution_count": 119,
   "metadata": {},
   "outputs": [],
   "source": [
    "reembolso['anomaly_by_lof'] = y_pred\n",
    "outliers = reembolso.loc[reembolso['anomaly_by_lof']==-1]\n",
    "outlier_index = list(outliers.index)"
   ]
  },
  {
   "cell_type": "code",
   "execution_count": 120,
   "metadata": {},
   "outputs": [
    {
     "data": {
      "text/plain": [
       " 1    90.0\n",
       "-1    10.0\n",
       "Name: anomaly_by_lof, dtype: float64"
      ]
     },
     "execution_count": 120,
     "metadata": {},
     "output_type": "execute_result"
    }
   ],
   "source": [
    "reembolso['anomaly_by_lof'].value_counts(normalize=True)*100"
   ]
  },
  {
   "cell_type": "code",
   "execution_count": null,
   "metadata": {},
   "outputs": [],
   "source": []
  },
  {
   "cell_type": "code",
   "execution_count": null,
   "metadata": {},
   "outputs": [],
   "source": []
  },
  {
   "cell_type": "code",
   "execution_count": null,
   "metadata": {},
   "outputs": [],
   "source": []
  }
 ],
 "metadata": {
  "kernelspec": {
   "display_name": "Python 3",
   "language": "python",
   "name": "python3"
  },
  "language_info": {
   "codemirror_mode": {
    "name": "ipython",
    "version": 3
   },
   "file_extension": ".py",
   "mimetype": "text/x-python",
   "name": "python",
   "nbconvert_exporter": "python",
   "pygments_lexer": "ipython3",
   "version": "3.7.3"
  },
  "toc": {
   "base_numbering": 1,
   "nav_menu": {},
   "number_sections": true,
   "sideBar": true,
   "skip_h1_title": false,
   "title_cell": "Table of Contents",
   "title_sidebar": "Contents",
   "toc_cell": false,
   "toc_position": {},
   "toc_section_display": true,
   "toc_window_display": false
  }
 },
 "nbformat": 4,
 "nbformat_minor": 4
}
